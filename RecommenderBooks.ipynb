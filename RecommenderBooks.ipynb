{
  "nbformat": 4,
  "nbformat_minor": 0,
  "metadata": {
    "colab": {
      "name": "RecommenderBooks.ipynb",
      "provenance": [],
      "collapsed_sections": [
        "NbmgDiF5MXri",
        "Ns_gGC0mMgZq"
      ]
    },
    "kernelspec": {
      "name": "python3",
      "display_name": "Python 3"
    },
    "language_info": {
      "name": "python"
    },
    "widgets": {
      "application/vnd.jupyter.widget-state+json": {
        "7526ee8e511e4569a3807ac9da0d2965": {
          "model_module": "@jupyter-widgets/controls",
          "model_name": "DropdownModel",
          "state": {
            "_options_labels": [
              "Item-based (correlation)",
              "Item-based (cosine)"
            ],
            "_view_name": "DropdownView",
            "style": "IPY_MODEL_81e99838c51d4b04ba0c732a8863475c",
            "_dom_classes": [],
            "description": "Select approach",
            "_model_name": "DropdownModel",
            "index": 1,
            "_view_module": "@jupyter-widgets/controls",
            "_model_module_version": "1.5.0",
            "_view_count": null,
            "disabled": false,
            "_view_module_version": "1.5.0",
            "description_tooltip": null,
            "_model_module": "@jupyter-widgets/controls",
            "layout": "IPY_MODEL_533013208d344d82ba3a7c0064e56682"
          }
        },
        "81e99838c51d4b04ba0c732a8863475c": {
          "model_module": "@jupyter-widgets/controls",
          "model_name": "DescriptionStyleModel",
          "state": {
            "_view_name": "StyleView",
            "_model_name": "DescriptionStyleModel",
            "description_width": "",
            "_view_module": "@jupyter-widgets/base",
            "_model_module_version": "1.5.0",
            "_view_count": null,
            "_view_module_version": "1.2.0",
            "_model_module": "@jupyter-widgets/controls"
          }
        },
        "533013208d344d82ba3a7c0064e56682": {
          "model_module": "@jupyter-widgets/base",
          "model_name": "LayoutModel",
          "state": {
            "_view_name": "LayoutView",
            "grid_template_rows": null,
            "right": null,
            "justify_content": null,
            "_view_module": "@jupyter-widgets/base",
            "overflow": null,
            "_model_module_version": "1.2.0",
            "_view_count": null,
            "flex_flow": null,
            "width": null,
            "min_width": null,
            "border": null,
            "align_items": null,
            "bottom": null,
            "_model_module": "@jupyter-widgets/base",
            "top": null,
            "grid_column": null,
            "overflow_y": null,
            "overflow_x": null,
            "grid_auto_flow": null,
            "grid_area": null,
            "grid_template_columns": null,
            "flex": null,
            "_model_name": "LayoutModel",
            "justify_items": null,
            "grid_row": null,
            "max_height": null,
            "align_content": null,
            "visibility": null,
            "align_self": null,
            "height": null,
            "min_height": null,
            "padding": null,
            "grid_auto_rows": null,
            "grid_gap": null,
            "max_width": null,
            "order": null,
            "_view_module_version": "1.2.0",
            "grid_template_areas": null,
            "object_position": null,
            "object_fit": null,
            "grid_auto_columns": null,
            "margin": null,
            "display": null,
            "left": null
          }
        }
      }
    }
  },
  "cells": [
    {
      "cell_type": "markdown",
      "metadata": {
        "id": "wTbfYK5QSrlV"
      },
      "source": [
        "# Bookish: Paso 3\n",
        "Esta es la etapa final, donde en base a los datasets que tenemos creamos un sistema de recomendacion"
      ]
    },
    {
      "cell_type": "code",
      "metadata": {
        "id": "fDC4semULQQE"
      },
      "source": [
        "!pip install -U -q PyDrive\n",
        "from pydrive.auth import GoogleAuth\n",
        "from pydrive.drive import GoogleDrive\n",
        "from google.colab import auth\n",
        "from oauth2client.client import GoogleCredentials"
      ],
      "execution_count": 26,
      "outputs": []
    },
    {
      "cell_type": "code",
      "metadata": {
        "id": "1qW3_fZCLdIl"
      },
      "source": [
        "auth.authenticate_user()\n",
        "gauth = GoogleAuth()\n",
        "gauth.credentials = GoogleCredentials.get_application_default()\n",
        "drive = GoogleDrive(gauth)"
      ],
      "execution_count": 27,
      "outputs": []
    },
    {
      "cell_type": "code",
      "metadata": {
        "id": "ZIgpQQ1gLfIp"
      },
      "source": [
        "top1000 = drive.CreateFile({'id':'1IM-NfHu8H8ZDbjmAQPx-L3rWUYJMmySz'})\n",
        "books_clean = drive.CreateFile({'id':'18wJwL7EqyYQ-sWe0LKGZKVUyCIzUC_xm'})\n",
        "ratingDownloaded = drive.CreateFile({'id':'1UN6dXHIjsiPjAgmiEdOKoSMJb1fQxMu5'})"
      ],
      "execution_count": 28,
      "outputs": []
    },
    {
      "cell_type": "code",
      "metadata": {
        "id": "zEIvHTZRLhI6"
      },
      "source": [
        "top1000.GetContentFile('top1000.csv')\n",
        "books_clean.GetContentFile('books_clean.csv')\n",
        "ratingDownloaded.GetContentFile('ratings.csv')"
      ],
      "execution_count": 29,
      "outputs": []
    },
    {
      "cell_type": "code",
      "metadata": {
        "id": "45SPK3ZZLjom"
      },
      "source": [
        "import numpy as np\n",
        "import pandas as pd\n",
        "import matplotlib.pyplot as plt\n",
        "import seaborn as sns\n",
        "import ipywidgets as widgets\n",
        "from IPython.display import display, clear_output\n",
        "\n",
        "import sklearn.metrics as metrics\n",
        "from sklearn.neighbors import NearestNeighbors\n",
        "from scipy.spatial.distance import correlation\n",
        "from sklearn.metrics.pairwise import pairwise_distances\n",
        "from contextlib import contextmanager\n",
        "\n",
        "import warnings\n",
        "warnings.filterwarnings('ignore')\n",
        "import os, sys\n",
        "import re\n",
        "\n",
        "pd.set_option('display.max_colwidth', -1)"
      ],
      "execution_count": 30,
      "outputs": []
    },
    {
      "cell_type": "code",
      "metadata": {
        "colab": {
          "base_uri": "https://localhost:8080/",
          "height": 261
        },
        "id": "lsgqZ8q-LlxA",
        "outputId": "d94eb744-1c15-4213-891b-d627d9181843"
      },
      "source": [
        "books = pd.read_csv('top1000.csv')\n",
        "books.head()"
      ],
      "execution_count": 31,
      "outputs": [
        {
          "output_type": "execute_result",
          "data": {
            "text/html": [
              "<div>\n",
              "<style scoped>\n",
              "    .dataframe tbody tr th:only-of-type {\n",
              "        vertical-align: middle;\n",
              "    }\n",
              "\n",
              "    .dataframe tbody tr th {\n",
              "        vertical-align: top;\n",
              "    }\n",
              "\n",
              "    .dataframe thead th {\n",
              "        text-align: right;\n",
              "    }\n",
              "</style>\n",
              "<table border=\"1\" class=\"dataframe\">\n",
              "  <thead>\n",
              "    <tr style=\"text-align: right;\">\n",
              "      <th></th>\n",
              "      <th>User-ID</th>\n",
              "      <th>000649840X</th>\n",
              "      <th>0020442203</th>\n",
              "      <th>002542730X</th>\n",
              "      <th>0028604199</th>\n",
              "      <th>006000438X</th>\n",
              "      <th>0060008032</th>\n",
              "      <th>0060096195</th>\n",
              "      <th>006016848X</th>\n",
              "      <th>0060173289</th>\n",
              "      <th>0060175400</th>\n",
              "      <th>0060175966</th>\n",
              "      <th>0060188731</th>\n",
              "      <th>006019491X</th>\n",
              "      <th>0060199652</th>\n",
              "      <th>0060248025</th>\n",
              "      <th>0060391626</th>\n",
              "      <th>0060392452</th>\n",
              "      <th>0060502258</th>\n",
              "      <th>0060512822</th>\n",
              "      <th>0060915544</th>\n",
              "      <th>0060916508</th>\n",
              "      <th>0060920084</th>\n",
              "      <th>0060921145</th>\n",
              "      <th>0060922532</th>\n",
              "      <th>0060926317</th>\n",
              "      <th>0060928336</th>\n",
              "      <th>0060929790</th>\n",
              "      <th>0060929871</th>\n",
              "      <th>006092988X</th>\n",
              "      <th>0060930187</th>\n",
              "      <th>0060930535</th>\n",
              "      <th>0060931418</th>\n",
              "      <th>0060932759</th>\n",
              "      <th>0060934417</th>\n",
              "      <th>0060938455</th>\n",
              "      <th>0060958022</th>\n",
              "      <th>0060959037</th>\n",
              "      <th>0060964049</th>\n",
              "      <th>0060976845</th>\n",
              "      <th>...</th>\n",
              "      <th>0877017883</th>\n",
              "      <th>0887307876</th>\n",
              "      <th>0894803204</th>\n",
              "      <th>0894805770</th>\n",
              "      <th>0894808249</th>\n",
              "      <th>089480829X</th>\n",
              "      <th>0971880107</th>\n",
              "      <th>140003065X</th>\n",
              "      <th>1400031346</th>\n",
              "      <th>1400031354</th>\n",
              "      <th>1400031362</th>\n",
              "      <th>1400032717</th>\n",
              "      <th>1400034779</th>\n",
              "      <th>1551668998</th>\n",
              "      <th>1558531025</th>\n",
              "      <th>155874262X</th>\n",
              "      <th>1558743669</th>\n",
              "      <th>1558744150</th>\n",
              "      <th>1558744630</th>\n",
              "      <th>1558745157</th>\n",
              "      <th>1558745718</th>\n",
              "      <th>1559029838</th>\n",
              "      <th>1565122968</th>\n",
              "      <th>1573221937</th>\n",
              "      <th>1573225517</th>\n",
              "      <th>1573225789</th>\n",
              "      <th>1573227331</th>\n",
              "      <th>1573228214</th>\n",
              "      <th>1573229326</th>\n",
              "      <th>1573229571</th>\n",
              "      <th>1576737330</th>\n",
              "      <th>1592400876</th>\n",
              "      <th>1844262553</th>\n",
              "      <th>1857022424</th>\n",
              "      <th>1878424319</th>\n",
              "      <th>1931561648</th>\n",
              "      <th>3257229534</th>\n",
              "      <th>3404148665</th>\n",
              "      <th>3423202327</th>\n",
              "      <th>3492045170</th>\n",
              "    </tr>\n",
              "  </thead>\n",
              "  <tbody>\n",
              "    <tr>\n",
              "      <th>0</th>\n",
              "      <td>9</td>\n",
              "      <td>0</td>\n",
              "      <td>0</td>\n",
              "      <td>0</td>\n",
              "      <td>0</td>\n",
              "      <td>0</td>\n",
              "      <td>0</td>\n",
              "      <td>0</td>\n",
              "      <td>0</td>\n",
              "      <td>0</td>\n",
              "      <td>0</td>\n",
              "      <td>0</td>\n",
              "      <td>0</td>\n",
              "      <td>0</td>\n",
              "      <td>0</td>\n",
              "      <td>0</td>\n",
              "      <td>0</td>\n",
              "      <td>0</td>\n",
              "      <td>0</td>\n",
              "      <td>0</td>\n",
              "      <td>0</td>\n",
              "      <td>0</td>\n",
              "      <td>0</td>\n",
              "      <td>0</td>\n",
              "      <td>0</td>\n",
              "      <td>0</td>\n",
              "      <td>0</td>\n",
              "      <td>0</td>\n",
              "      <td>0</td>\n",
              "      <td>0</td>\n",
              "      <td>0</td>\n",
              "      <td>0</td>\n",
              "      <td>0</td>\n",
              "      <td>0</td>\n",
              "      <td>0</td>\n",
              "      <td>0</td>\n",
              "      <td>0</td>\n",
              "      <td>0</td>\n",
              "      <td>0</td>\n",
              "      <td>0</td>\n",
              "      <td>...</td>\n",
              "      <td>0</td>\n",
              "      <td>0</td>\n",
              "      <td>0</td>\n",
              "      <td>0</td>\n",
              "      <td>0</td>\n",
              "      <td>0</td>\n",
              "      <td>0</td>\n",
              "      <td>0</td>\n",
              "      <td>0</td>\n",
              "      <td>0</td>\n",
              "      <td>0</td>\n",
              "      <td>0</td>\n",
              "      <td>0</td>\n",
              "      <td>0</td>\n",
              "      <td>0</td>\n",
              "      <td>0</td>\n",
              "      <td>0</td>\n",
              "      <td>0</td>\n",
              "      <td>0</td>\n",
              "      <td>0</td>\n",
              "      <td>0</td>\n",
              "      <td>0</td>\n",
              "      <td>0</td>\n",
              "      <td>0</td>\n",
              "      <td>0</td>\n",
              "      <td>0</td>\n",
              "      <td>0</td>\n",
              "      <td>0</td>\n",
              "      <td>0</td>\n",
              "      <td>0</td>\n",
              "      <td>0</td>\n",
              "      <td>0</td>\n",
              "      <td>0</td>\n",
              "      <td>0</td>\n",
              "      <td>0</td>\n",
              "      <td>0</td>\n",
              "      <td>0</td>\n",
              "      <td>0</td>\n",
              "      <td>0</td>\n",
              "      <td>0</td>\n",
              "    </tr>\n",
              "    <tr>\n",
              "      <th>1</th>\n",
              "      <td>16</td>\n",
              "      <td>0</td>\n",
              "      <td>0</td>\n",
              "      <td>0</td>\n",
              "      <td>0</td>\n",
              "      <td>0</td>\n",
              "      <td>0</td>\n",
              "      <td>0</td>\n",
              "      <td>0</td>\n",
              "      <td>0</td>\n",
              "      <td>0</td>\n",
              "      <td>0</td>\n",
              "      <td>0</td>\n",
              "      <td>0</td>\n",
              "      <td>0</td>\n",
              "      <td>0</td>\n",
              "      <td>0</td>\n",
              "      <td>0</td>\n",
              "      <td>0</td>\n",
              "      <td>0</td>\n",
              "      <td>0</td>\n",
              "      <td>0</td>\n",
              "      <td>0</td>\n",
              "      <td>0</td>\n",
              "      <td>0</td>\n",
              "      <td>0</td>\n",
              "      <td>0</td>\n",
              "      <td>0</td>\n",
              "      <td>0</td>\n",
              "      <td>0</td>\n",
              "      <td>0</td>\n",
              "      <td>0</td>\n",
              "      <td>0</td>\n",
              "      <td>0</td>\n",
              "      <td>0</td>\n",
              "      <td>0</td>\n",
              "      <td>0</td>\n",
              "      <td>0</td>\n",
              "      <td>0</td>\n",
              "      <td>0</td>\n",
              "      <td>...</td>\n",
              "      <td>0</td>\n",
              "      <td>0</td>\n",
              "      <td>0</td>\n",
              "      <td>0</td>\n",
              "      <td>0</td>\n",
              "      <td>0</td>\n",
              "      <td>0</td>\n",
              "      <td>0</td>\n",
              "      <td>0</td>\n",
              "      <td>0</td>\n",
              "      <td>0</td>\n",
              "      <td>0</td>\n",
              "      <td>0</td>\n",
              "      <td>0</td>\n",
              "      <td>0</td>\n",
              "      <td>0</td>\n",
              "      <td>0</td>\n",
              "      <td>0</td>\n",
              "      <td>0</td>\n",
              "      <td>0</td>\n",
              "      <td>0</td>\n",
              "      <td>0</td>\n",
              "      <td>0</td>\n",
              "      <td>0</td>\n",
              "      <td>0</td>\n",
              "      <td>0</td>\n",
              "      <td>0</td>\n",
              "      <td>0</td>\n",
              "      <td>0</td>\n",
              "      <td>0</td>\n",
              "      <td>0</td>\n",
              "      <td>0</td>\n",
              "      <td>0</td>\n",
              "      <td>0</td>\n",
              "      <td>0</td>\n",
              "      <td>0</td>\n",
              "      <td>0</td>\n",
              "      <td>0</td>\n",
              "      <td>0</td>\n",
              "      <td>0</td>\n",
              "    </tr>\n",
              "    <tr>\n",
              "      <th>2</th>\n",
              "      <td>26</td>\n",
              "      <td>0</td>\n",
              "      <td>0</td>\n",
              "      <td>0</td>\n",
              "      <td>0</td>\n",
              "      <td>0</td>\n",
              "      <td>0</td>\n",
              "      <td>0</td>\n",
              "      <td>0</td>\n",
              "      <td>0</td>\n",
              "      <td>0</td>\n",
              "      <td>0</td>\n",
              "      <td>0</td>\n",
              "      <td>0</td>\n",
              "      <td>0</td>\n",
              "      <td>0</td>\n",
              "      <td>0</td>\n",
              "      <td>0</td>\n",
              "      <td>0</td>\n",
              "      <td>0</td>\n",
              "      <td>0</td>\n",
              "      <td>0</td>\n",
              "      <td>0</td>\n",
              "      <td>0</td>\n",
              "      <td>0</td>\n",
              "      <td>0</td>\n",
              "      <td>0</td>\n",
              "      <td>0</td>\n",
              "      <td>0</td>\n",
              "      <td>0</td>\n",
              "      <td>0</td>\n",
              "      <td>0</td>\n",
              "      <td>0</td>\n",
              "      <td>0</td>\n",
              "      <td>0</td>\n",
              "      <td>0</td>\n",
              "      <td>0</td>\n",
              "      <td>0</td>\n",
              "      <td>0</td>\n",
              "      <td>0</td>\n",
              "      <td>...</td>\n",
              "      <td>0</td>\n",
              "      <td>0</td>\n",
              "      <td>0</td>\n",
              "      <td>0</td>\n",
              "      <td>0</td>\n",
              "      <td>0</td>\n",
              "      <td>0</td>\n",
              "      <td>0</td>\n",
              "      <td>0</td>\n",
              "      <td>0</td>\n",
              "      <td>0</td>\n",
              "      <td>0</td>\n",
              "      <td>0</td>\n",
              "      <td>0</td>\n",
              "      <td>0</td>\n",
              "      <td>0</td>\n",
              "      <td>0</td>\n",
              "      <td>0</td>\n",
              "      <td>0</td>\n",
              "      <td>0</td>\n",
              "      <td>0</td>\n",
              "      <td>0</td>\n",
              "      <td>0</td>\n",
              "      <td>0</td>\n",
              "      <td>0</td>\n",
              "      <td>0</td>\n",
              "      <td>0</td>\n",
              "      <td>0</td>\n",
              "      <td>0</td>\n",
              "      <td>0</td>\n",
              "      <td>0</td>\n",
              "      <td>0</td>\n",
              "      <td>0</td>\n",
              "      <td>0</td>\n",
              "      <td>0</td>\n",
              "      <td>0</td>\n",
              "      <td>0</td>\n",
              "      <td>0</td>\n",
              "      <td>0</td>\n",
              "      <td>0</td>\n",
              "    </tr>\n",
              "    <tr>\n",
              "      <th>3</th>\n",
              "      <td>39</td>\n",
              "      <td>0</td>\n",
              "      <td>0</td>\n",
              "      <td>0</td>\n",
              "      <td>0</td>\n",
              "      <td>0</td>\n",
              "      <td>0</td>\n",
              "      <td>0</td>\n",
              "      <td>0</td>\n",
              "      <td>0</td>\n",
              "      <td>0</td>\n",
              "      <td>0</td>\n",
              "      <td>0</td>\n",
              "      <td>0</td>\n",
              "      <td>0</td>\n",
              "      <td>0</td>\n",
              "      <td>0</td>\n",
              "      <td>0</td>\n",
              "      <td>0</td>\n",
              "      <td>0</td>\n",
              "      <td>0</td>\n",
              "      <td>0</td>\n",
              "      <td>0</td>\n",
              "      <td>0</td>\n",
              "      <td>0</td>\n",
              "      <td>0</td>\n",
              "      <td>0</td>\n",
              "      <td>0</td>\n",
              "      <td>0</td>\n",
              "      <td>0</td>\n",
              "      <td>0</td>\n",
              "      <td>0</td>\n",
              "      <td>0</td>\n",
              "      <td>0</td>\n",
              "      <td>0</td>\n",
              "      <td>0</td>\n",
              "      <td>0</td>\n",
              "      <td>0</td>\n",
              "      <td>0</td>\n",
              "      <td>0</td>\n",
              "      <td>...</td>\n",
              "      <td>0</td>\n",
              "      <td>0</td>\n",
              "      <td>0</td>\n",
              "      <td>0</td>\n",
              "      <td>0</td>\n",
              "      <td>0</td>\n",
              "      <td>0</td>\n",
              "      <td>0</td>\n",
              "      <td>0</td>\n",
              "      <td>0</td>\n",
              "      <td>0</td>\n",
              "      <td>0</td>\n",
              "      <td>0</td>\n",
              "      <td>0</td>\n",
              "      <td>0</td>\n",
              "      <td>0</td>\n",
              "      <td>0</td>\n",
              "      <td>0</td>\n",
              "      <td>0</td>\n",
              "      <td>0</td>\n",
              "      <td>0</td>\n",
              "      <td>0</td>\n",
              "      <td>0</td>\n",
              "      <td>0</td>\n",
              "      <td>0</td>\n",
              "      <td>0</td>\n",
              "      <td>0</td>\n",
              "      <td>0</td>\n",
              "      <td>0</td>\n",
              "      <td>0</td>\n",
              "      <td>0</td>\n",
              "      <td>0</td>\n",
              "      <td>0</td>\n",
              "      <td>0</td>\n",
              "      <td>0</td>\n",
              "      <td>0</td>\n",
              "      <td>0</td>\n",
              "      <td>0</td>\n",
              "      <td>0</td>\n",
              "      <td>0</td>\n",
              "    </tr>\n",
              "    <tr>\n",
              "      <th>4</th>\n",
              "      <td>42</td>\n",
              "      <td>0</td>\n",
              "      <td>0</td>\n",
              "      <td>0</td>\n",
              "      <td>0</td>\n",
              "      <td>0</td>\n",
              "      <td>0</td>\n",
              "      <td>0</td>\n",
              "      <td>0</td>\n",
              "      <td>0</td>\n",
              "      <td>0</td>\n",
              "      <td>0</td>\n",
              "      <td>0</td>\n",
              "      <td>0</td>\n",
              "      <td>0</td>\n",
              "      <td>0</td>\n",
              "      <td>0</td>\n",
              "      <td>0</td>\n",
              "      <td>0</td>\n",
              "      <td>0</td>\n",
              "      <td>0</td>\n",
              "      <td>0</td>\n",
              "      <td>0</td>\n",
              "      <td>0</td>\n",
              "      <td>0</td>\n",
              "      <td>0</td>\n",
              "      <td>0</td>\n",
              "      <td>0</td>\n",
              "      <td>0</td>\n",
              "      <td>0</td>\n",
              "      <td>0</td>\n",
              "      <td>0</td>\n",
              "      <td>0</td>\n",
              "      <td>0</td>\n",
              "      <td>0</td>\n",
              "      <td>0</td>\n",
              "      <td>0</td>\n",
              "      <td>0</td>\n",
              "      <td>0</td>\n",
              "      <td>0</td>\n",
              "      <td>...</td>\n",
              "      <td>0</td>\n",
              "      <td>0</td>\n",
              "      <td>0</td>\n",
              "      <td>0</td>\n",
              "      <td>0</td>\n",
              "      <td>0</td>\n",
              "      <td>0</td>\n",
              "      <td>0</td>\n",
              "      <td>0</td>\n",
              "      <td>0</td>\n",
              "      <td>0</td>\n",
              "      <td>0</td>\n",
              "      <td>0</td>\n",
              "      <td>0</td>\n",
              "      <td>0</td>\n",
              "      <td>0</td>\n",
              "      <td>0</td>\n",
              "      <td>0</td>\n",
              "      <td>0</td>\n",
              "      <td>0</td>\n",
              "      <td>0</td>\n",
              "      <td>0</td>\n",
              "      <td>0</td>\n",
              "      <td>0</td>\n",
              "      <td>0</td>\n",
              "      <td>0</td>\n",
              "      <td>0</td>\n",
              "      <td>0</td>\n",
              "      <td>0</td>\n",
              "      <td>0</td>\n",
              "      <td>0</td>\n",
              "      <td>0</td>\n",
              "      <td>0</td>\n",
              "      <td>0</td>\n",
              "      <td>0</td>\n",
              "      <td>0</td>\n",
              "      <td>0</td>\n",
              "      <td>0</td>\n",
              "      <td>0</td>\n",
              "      <td>0</td>\n",
              "    </tr>\n",
              "  </tbody>\n",
              "</table>\n",
              "<p>5 rows × 1001 columns</p>\n",
              "</div>"
            ],
            "text/plain": [
              "   User-ID  000649840X  0020442203  ...  3404148665  3423202327  3492045170\n",
              "0  9        0           0           ...  0           0           0         \n",
              "1  16       0           0           ...  0           0           0         \n",
              "2  26       0           0           ...  0           0           0         \n",
              "3  39       0           0           ...  0           0           0         \n",
              "4  42       0           0           ...  0           0           0         \n",
              "\n",
              "[5 rows x 1001 columns]"
            ]
          },
          "metadata": {
            "tags": []
          },
          "execution_count": 31
        }
      ]
    },
    {
      "cell_type": "code",
      "metadata": {
        "colab": {
          "base_uri": "https://localhost:8080/",
          "height": 195
        },
        "id": "5Oz4rclRQIfP",
        "outputId": "ac5f1d1a-09d2-4e4f-ffd3-dd9cf08f916d"
      },
      "source": [
        "books_all = pd.read_csv('books_clean.csv')\n",
        "books_all.head()"
      ],
      "execution_count": 32,
      "outputs": [
        {
          "output_type": "execute_result",
          "data": {
            "text/html": [
              "<div>\n",
              "<style scoped>\n",
              "    .dataframe tbody tr th:only-of-type {\n",
              "        vertical-align: middle;\n",
              "    }\n",
              "\n",
              "    .dataframe tbody tr th {\n",
              "        vertical-align: top;\n",
              "    }\n",
              "\n",
              "    .dataframe thead th {\n",
              "        text-align: right;\n",
              "    }\n",
              "</style>\n",
              "<table border=\"1\" class=\"dataframe\">\n",
              "  <thead>\n",
              "    <tr style=\"text-align: right;\">\n",
              "      <th></th>\n",
              "      <th>Unnamed: 0</th>\n",
              "      <th>ISBN</th>\n",
              "      <th>bookTitle</th>\n",
              "      <th>bookAuthor</th>\n",
              "      <th>yearOfPublication</th>\n",
              "      <th>publisher</th>\n",
              "    </tr>\n",
              "  </thead>\n",
              "  <tbody>\n",
              "    <tr>\n",
              "      <th>0</th>\n",
              "      <td>0</td>\n",
              "      <td>0195153448</td>\n",
              "      <td>Classical Mythology</td>\n",
              "      <td>Mark P. O. Morford</td>\n",
              "      <td>2002</td>\n",
              "      <td>Oxford University Press</td>\n",
              "    </tr>\n",
              "    <tr>\n",
              "      <th>1</th>\n",
              "      <td>1</td>\n",
              "      <td>0002005018</td>\n",
              "      <td>Clara Callan</td>\n",
              "      <td>Richard Bruce Wright</td>\n",
              "      <td>2001</td>\n",
              "      <td>HarperFlamingo Canada</td>\n",
              "    </tr>\n",
              "    <tr>\n",
              "      <th>2</th>\n",
              "      <td>2</td>\n",
              "      <td>0060973129</td>\n",
              "      <td>Decision in Normandy</td>\n",
              "      <td>Carlo D'Este</td>\n",
              "      <td>1991</td>\n",
              "      <td>HarperPerennial</td>\n",
              "    </tr>\n",
              "    <tr>\n",
              "      <th>3</th>\n",
              "      <td>3</td>\n",
              "      <td>0374157065</td>\n",
              "      <td>Flu: The Story of the Great Influenza Pandemic of 1918 and the Search for the Virus That Caused It</td>\n",
              "      <td>Gina Bari Kolata</td>\n",
              "      <td>1999</td>\n",
              "      <td>Farrar Straus Giroux</td>\n",
              "    </tr>\n",
              "    <tr>\n",
              "      <th>4</th>\n",
              "      <td>4</td>\n",
              "      <td>0393045218</td>\n",
              "      <td>The Mummies of Urumchi</td>\n",
              "      <td>E. J. W. Barber</td>\n",
              "      <td>1999</td>\n",
              "      <td>W. W. Norton &amp;amp; Company</td>\n",
              "    </tr>\n",
              "  </tbody>\n",
              "</table>\n",
              "</div>"
            ],
            "text/plain": [
              "   Unnamed: 0        ISBN  ... yearOfPublication                   publisher\n",
              "0  0           0195153448  ...  2002              Oxford University Press   \n",
              "1  1           0002005018  ...  2001              HarperFlamingo Canada     \n",
              "2  2           0060973129  ...  1991              HarperPerennial           \n",
              "3  3           0374157065  ...  1999              Farrar Straus Giroux      \n",
              "4  4           0393045218  ...  1999              W. W. Norton &amp; Company\n",
              "\n",
              "[5 rows x 6 columns]"
            ]
          },
          "metadata": {
            "tags": []
          },
          "execution_count": 32
        }
      ]
    },
    {
      "cell_type": "code",
      "metadata": {
        "colab": {
          "base_uri": "https://localhost:8080/",
          "height": 195
        },
        "id": "kkd8ZYoNmR0k",
        "outputId": "d5319a91-bacf-4ce8-a512-9b65604bab99"
      },
      "source": [
        "ratings = pd.read_csv('ratings.csv')\n",
        "ratings.head()"
      ],
      "execution_count": 33,
      "outputs": [
        {
          "output_type": "execute_result",
          "data": {
            "text/html": [
              "<div>\n",
              "<style scoped>\n",
              "    .dataframe tbody tr th:only-of-type {\n",
              "        vertical-align: middle;\n",
              "    }\n",
              "\n",
              "    .dataframe tbody tr th {\n",
              "        vertical-align: top;\n",
              "    }\n",
              "\n",
              "    .dataframe thead th {\n",
              "        text-align: right;\n",
              "    }\n",
              "</style>\n",
              "<table border=\"1\" class=\"dataframe\">\n",
              "  <thead>\n",
              "    <tr style=\"text-align: right;\">\n",
              "      <th></th>\n",
              "      <th>Unnamed: 0</th>\n",
              "      <th>User-ID</th>\n",
              "      <th>ISBN</th>\n",
              "      <th>Book-Rating</th>\n",
              "    </tr>\n",
              "  </thead>\n",
              "  <tbody>\n",
              "    <tr>\n",
              "      <th>0</th>\n",
              "      <td>0</td>\n",
              "      <td>276725</td>\n",
              "      <td>034545104X</td>\n",
              "      <td>0</td>\n",
              "    </tr>\n",
              "    <tr>\n",
              "      <th>1</th>\n",
              "      <td>1</td>\n",
              "      <td>276726</td>\n",
              "      <td>0155061224</td>\n",
              "      <td>5</td>\n",
              "    </tr>\n",
              "    <tr>\n",
              "      <th>2</th>\n",
              "      <td>2</td>\n",
              "      <td>276727</td>\n",
              "      <td>0446520802</td>\n",
              "      <td>0</td>\n",
              "    </tr>\n",
              "    <tr>\n",
              "      <th>3</th>\n",
              "      <td>3</td>\n",
              "      <td>276729</td>\n",
              "      <td>052165615X</td>\n",
              "      <td>3</td>\n",
              "    </tr>\n",
              "    <tr>\n",
              "      <th>4</th>\n",
              "      <td>4</td>\n",
              "      <td>276729</td>\n",
              "      <td>0521795028</td>\n",
              "      <td>6</td>\n",
              "    </tr>\n",
              "  </tbody>\n",
              "</table>\n",
              "</div>"
            ],
            "text/plain": [
              "   Unnamed: 0  User-ID        ISBN  Book-Rating\n",
              "0  0           276725   034545104X  0          \n",
              "1  1           276726   0155061224  5          \n",
              "2  2           276727   0446520802  0          \n",
              "3  3           276729   052165615X  3          \n",
              "4  4           276729   0521795028  6          "
            ]
          },
          "metadata": {
            "tags": []
          },
          "execution_count": 33
        }
      ]
    },
    {
      "cell_type": "markdown",
      "metadata": {
        "id": "NbmgDiF5MXri"
      },
      "source": [
        "# Entrenando nuestro sistema de recomendacion(Primero)"
      ]
    },
    {
      "cell_type": "code",
      "metadata": {
        "id": "V-gAuPuGMbKX"
      },
      "source": [
        "#variables globales\n",
        "global metric,k\n",
        "k=10\n",
        "metric='cosine'"
      ],
      "execution_count": 34,
      "outputs": []
    },
    {
      "cell_type": "markdown",
      "metadata": {
        "id": "Ns_gGC0mMgZq"
      },
      "source": [
        "# Item Based"
      ]
    },
    {
      "cell_type": "code",
      "metadata": {
        "id": "0uzIdVxJMd8u"
      },
      "source": [
        "#Esta funcion encuentra items(libros) libros similares con el item_id y la matriz de calificaciones\n",
        "\n",
        "def findksimilaritems(item_id, ratings, metric=metric, k=k):\n",
        "    similarities=[]\n",
        "    indices=[]\n",
        "    ratings=ratings.T\n",
        "    loc = ratings.index.get_loc(item_id)\n",
        "    model_knn = NearestNeighbors(metric = metric, algorithm = 'brute')\n",
        "    model_knn.fit(ratings)\n",
        "    \n",
        "    distances, indices = model_knn.kneighbors(ratings.iloc[loc, :].values.reshape(1, -1), n_neighbors = k+1)\n",
        "    similarities = 1-distances.flatten()\n",
        "\n",
        "    return similarities,indices"
      ],
      "execution_count": 35,
      "outputs": []
    },
    {
      "cell_type": "code",
      "metadata": {
        "id": "m7SOZRBHN2ow"
      },
      "source": [
        "#Esta funcion predice el rating \n",
        "def predict_itembased(user_id, item_id, ratings, metric = metric, k=k):\n",
        "    prediction= wtd_sum =0\n",
        "    user_loc = ratings.index.get_loc(user_id)\n",
        "    item_loc = ratings.columns.get_loc(item_id)\n",
        "    similarities, indices=findksimilaritems(item_id, ratings) #similar users based on correlation coefficients\n",
        "    sum_wt = np.sum(similarities)-1\n",
        "    product=1\n",
        "    for i in range(0, len(indices.flatten())):\n",
        "        if indices.flatten()[i] == item_loc:\n",
        "            continue;\n",
        "        else:\n",
        "            product = ratings.iloc[user_loc,indices.flatten()[i]] * (similarities[i])\n",
        "            wtd_sum = wtd_sum + product                              \n",
        "    prediction = int(round(wtd_sum/sum_wt))\n",
        "    \n",
        "    #en caso de tener un dataset muy escaso, usar la metrica de correlacion para 'collaborative based approach' puede dar calificaciones negativas\n",
        "    #aqui manejamos ese caso\n",
        "    #predicciones en caso de un dataset muy escaso\n",
        "    if prediction <= 0:\n",
        "        prediction = 1   \n",
        "    elif prediction >10:\n",
        "        prediction = 10\n",
        "\n",
        "    print('\\nPredicted rating for user {0} -> item {1}: {2}'.format(user_id,item_id,prediction))      \n",
        "    \n",
        "    return prediction"
      ],
      "execution_count": 36,
      "outputs": []
    },
    {
      "cell_type": "code",
      "metadata": {
        "colab": {
          "base_uri": "https://localhost:8080/"
        },
        "id": "IEwiU42bOBeG",
        "outputId": "81f46856-fcb4-4990-a2e2-b28004196c36"
      },
      "source": [
        "prediction = predict_itembased(42,'0020442203',books)"
      ],
      "execution_count": 37,
      "outputs": [
        {
          "output_type": "stream",
          "text": [
            "\n",
            "Predicted rating for user 42 -> item 0020442203: 1\n"
          ],
          "name": "stdout"
        }
      ]
    },
    {
      "cell_type": "code",
      "metadata": {
        "id": "hM1cngDUOVnn"
      },
      "source": [
        "from contextlib import contextmanager"
      ],
      "execution_count": 38,
      "outputs": []
    },
    {
      "cell_type": "code",
      "metadata": {
        "id": "kD2oVCoYOX1S"
      },
      "source": [
        "@contextmanager\n",
        "def suppress_stdout():\n",
        "    with open(os.devnull, \"w\") as devnull:\n",
        "        old_stdout = sys.stdout\n",
        "        sys.stdout = devnull\n",
        "        try:  \n",
        "            yield\n",
        "        finally:\n",
        "            sys.stdout = old_stdout"
      ],
      "execution_count": 39,
      "outputs": []
    },
    {
      "cell_type": "code",
      "metadata": {
        "id": "ZFWMlkh5ObFf"
      },
      "source": [
        "#Esta función utiliza las funciones anteriores para recomendar elementos para el enfoque basado en el item/usuario y el coseno/correlación.\n",
        "#Se hacen recomendaciones si la calificación prevista para un elemento es> = a 6 y los elementos aún no se han calificado\n",
        "def recommendItem(user_id, ratings, metric=metric):    \n",
        "    if (user_id not in ratings.index.values) or type(user_id) is not int:\n",
        "        print(\"User id should be a valid integer from this list :\\n\\n {} \".format(re.sub('[\\[\\]]', '', np.array_str(books.index.values))))\n",
        "    else:    \n",
        "        ids = ['Item-based (correlation)','Item-based (cosine)']\n",
        "        select = widgets.Dropdown(options=ids, value=ids[0],description='Select approach', width='1000px')\n",
        "        def on_change(change):\n",
        "            clear_output(wait=True)\n",
        "            prediction = []            \n",
        "            if change['type'] == 'change' and change['name'] == 'value':            \n",
        "                if (select.value == 'Item-based (correlation)') :\n",
        "                    metric = 'correlation'\n",
        "                else:                       \n",
        "                    metric = 'cosine'   \n",
        "                with suppress_stdout():\n",
        "                    if (select.value == 'Item-based (correlation)') | (select.value == 'Item-based (cosine)'):\n",
        "                        for i in range(ratings.shape[1]):\n",
        "                            if (ratings[str(ratings.columns[i])][user_id] !=0): #not rated already\n",
        "                                prediction.append(predict_itembased(user_id, str(ratings.columns[i]) ,ratings, metric))\n",
        "                            else:                    \n",
        "                                prediction.append(-1) #for already rated items\n",
        "                    else:\n",
        "                        for i in range(ratings.shape[1]):\n",
        "                            if (ratings[str(ratings.columns[i])][user_id] !=0): #not rated already\n",
        "                                prediction.append(predict_userbased(user_id, str(ratings.columns[i]) ,ratings, metric))\n",
        "                            else:                    \n",
        "                                prediction.append(-1) #for already rated items\n",
        "                prediction = pd.Series(prediction)\n",
        "                prediction = prediction.sort_values(ascending=False)\n",
        "                recommended = prediction[:10]\n",
        "                print(\"As per {0} approach....Following books are recommended...\".format(select.value))\n",
        "                for i in range(len(recommended)):\n",
        "                     print(\"{0}. {1}\".format(i+1,books_all.bookTitle[recommended.index[i]].encode('utf-8')))                        \n",
        "        select.observe(on_change)\n",
        "        display(select)"
      ],
      "execution_count": 40,
      "outputs": []
    },
    {
      "cell_type": "code",
      "metadata": {
        "colab": {
          "base_uri": "https://localhost:8080/"
        },
        "id": "6-TipC7NO97Q",
        "outputId": "9d143e38-0cdf-4f94-fd40-9384084d78ba"
      },
      "source": [
        "#checando si funciona cuando dan entradas incorrectas\n",
        "recommendItem(999999,books)"
      ],
      "execution_count": 41,
      "outputs": [
        {
          "output_type": "stream",
          "text": [
            "User id should be a valid integer from this list :\n",
            "\n",
            "     0     1     2 ... 25450 25451 25452 \n"
          ],
          "name": "stdout"
        }
      ]
    },
    {
      "cell_type": "code",
      "metadata": {
        "colab": {
          "base_uri": "https://localhost:8080/",
          "height": 202,
          "referenced_widgets": [
            "7526ee8e511e4569a3807ac9da0d2965",
            "81e99838c51d4b04ba0c732a8863475c",
            "533013208d344d82ba3a7c0064e56682"
          ]
        },
        "id": "n9waBvOcPbps",
        "outputId": "d19c72c9-9467-4e2a-e0f8-eaaf88d3a70d"
      },
      "source": [
        "recommendItem(4385, books)"
      ],
      "execution_count": 42,
      "outputs": [
        {
          "output_type": "stream",
          "text": [
            "As per Item-based (cosine) approach....Following books are recommended...\n",
            "1. b'Classical Mythology'\n",
            "2. b'James and the Giant Peach'\n",
            "3. b'The Music Box'\n",
            "4. b'The Best Democracy Money Can Buy: The Truth About Corporate Cons, Globalization and High-Finance Fraudsters'\n",
            "5. b'Desert Notes/River Notes'\n",
            "6. b'Diario de Ana Frank'\n",
            "7. b'Affinity'\n",
            "8. b\"Vinegar Hill (Oprah's Book Club (Paperback))\"\n",
            "9. b'Last Chance to See'\n",
            "10. b'ALL THAT REMAINS'\n"
          ],
          "name": "stdout"
        }
      ]
    },
    {
      "cell_type": "markdown",
      "metadata": {
        "id": "Js4v9sN7Qm-8"
      },
      "source": [
        "# Entrenando nuestro sistema de recomendacion(Segundo)"
      ]
    },
    {
      "cell_type": "code",
      "metadata": {
        "colab": {
          "base_uri": "https://localhost:8080/",
          "height": 279
        },
        "id": "z1p-yXK8YmcV",
        "outputId": "c93310a8-375c-4ef4-d5b8-c8ab7d8df061"
      },
      "source": [
        "booksAll = books_all\n",
        "booksAll.head()"
      ],
      "execution_count": null,
      "outputs": [
        {
          "output_type": "execute_result",
          "data": {
            "text/html": [
              "<div>\n",
              "<style scoped>\n",
              "    .dataframe tbody tr th:only-of-type {\n",
              "        vertical-align: middle;\n",
              "    }\n",
              "\n",
              "    .dataframe tbody tr th {\n",
              "        vertical-align: top;\n",
              "    }\n",
              "\n",
              "    .dataframe thead th {\n",
              "        text-align: right;\n",
              "    }\n",
              "</style>\n",
              "<table border=\"1\" class=\"dataframe\">\n",
              "  <thead>\n",
              "    <tr style=\"text-align: right;\">\n",
              "      <th></th>\n",
              "      <th>Unnamed: 0</th>\n",
              "      <th>ISBN</th>\n",
              "      <th>bookTitle</th>\n",
              "      <th>bookAuthor</th>\n",
              "      <th>yearOfPublication</th>\n",
              "      <th>publisher</th>\n",
              "    </tr>\n",
              "  </thead>\n",
              "  <tbody>\n",
              "    <tr>\n",
              "      <th>0</th>\n",
              "      <td>0</td>\n",
              "      <td>0195153448</td>\n",
              "      <td>Classical Mythology</td>\n",
              "      <td>Mark P. O. Morford</td>\n",
              "      <td>2002</td>\n",
              "      <td>Oxford University Press</td>\n",
              "    </tr>\n",
              "    <tr>\n",
              "      <th>1</th>\n",
              "      <td>1</td>\n",
              "      <td>0002005018</td>\n",
              "      <td>Clara Callan</td>\n",
              "      <td>Richard Bruce Wright</td>\n",
              "      <td>2001</td>\n",
              "      <td>HarperFlamingo Canada</td>\n",
              "    </tr>\n",
              "    <tr>\n",
              "      <th>2</th>\n",
              "      <td>2</td>\n",
              "      <td>0060973129</td>\n",
              "      <td>Decision in Normandy</td>\n",
              "      <td>Carlo D'Este</td>\n",
              "      <td>1991</td>\n",
              "      <td>HarperPerennial</td>\n",
              "    </tr>\n",
              "    <tr>\n",
              "      <th>3</th>\n",
              "      <td>3</td>\n",
              "      <td>0374157065</td>\n",
              "      <td>Flu: The Story of the Great Influenza Pandemic of 1918 and the Search for the Virus That Caused It</td>\n",
              "      <td>Gina Bari Kolata</td>\n",
              "      <td>1999</td>\n",
              "      <td>Farrar Straus Giroux</td>\n",
              "    </tr>\n",
              "    <tr>\n",
              "      <th>4</th>\n",
              "      <td>4</td>\n",
              "      <td>0393045218</td>\n",
              "      <td>The Mummies of Urumchi</td>\n",
              "      <td>E. J. W. Barber</td>\n",
              "      <td>1999</td>\n",
              "      <td>W. W. Norton &amp;amp; Company</td>\n",
              "    </tr>\n",
              "  </tbody>\n",
              "</table>\n",
              "</div>"
            ],
            "text/plain": [
              "   Unnamed: 0        ISBN  ... yearOfPublication                   publisher\n",
              "0  0           0195153448  ...  2002              Oxford University Press   \n",
              "1  1           0002005018  ...  2001              HarperFlamingo Canada     \n",
              "2  2           0060973129  ...  1991              HarperPerennial           \n",
              "3  3           0374157065  ...  1999              Farrar Straus Giroux      \n",
              "4  4           0393045218  ...  1999              W. W. Norton &amp; Company\n",
              "\n",
              "[5 rows x 6 columns]"
            ]
          },
          "metadata": {
            "tags": []
          },
          "execution_count": 11
        }
      ]
    },
    {
      "cell_type": "code",
      "metadata": {
        "colab": {
          "base_uri": "https://localhost:8080/"
        },
        "id": "JCWb7WLGmuWO",
        "outputId": "21f1f7ad-1b87-47ca-f136-996414fcafb6"
      },
      "source": [
        "#El conjunto de datos de calificaciones debe tener solo los libros que existen en nuestro conjunto de datos de libros\n",
        "ratings_new = ratings[ratings.ISBN.isin(booksAll.ISBN)]\n",
        "\n",
        "ratings.shape,ratings_new.shape"
      ],
      "execution_count": null,
      "outputs": [
        {
          "output_type": "execute_result",
          "data": {
            "text/plain": [
              "((1149780, 4), (1031136, 4))"
            ]
          },
          "metadata": {
            "tags": []
          },
          "execution_count": 12
        }
      ]
    },
    {
      "cell_type": "code",
      "metadata": {
        "id": "0pB99ioUmwm3"
      },
      "source": [
        "#Separamos las calificaciones implicitas y explicitas\n",
        "ratings_explicit = ratings_new[ratings_new['Book-Rating'] != 0]"
      ],
      "execution_count": null,
      "outputs": []
    },
    {
      "cell_type": "code",
      "metadata": {
        "colab": {
          "base_uri": "https://localhost:8080/"
        },
        "id": "iMGAuduxmzcV",
        "outputId": "a05d5fdb-e4de-4308-d5e0-7719392109f1"
      },
      "source": [
        "print(ratings_new.shape)\n",
        "print(ratings_explicit.shape)"
      ],
      "execution_count": null,
      "outputs": [
        {
          "output_type": "stream",
          "text": [
            "(1031136, 4)\n",
            "(383842, 4)\n"
          ],
          "name": "stdout"
        }
      ]
    },
    {
      "cell_type": "code",
      "metadata": {
        "colab": {
          "base_uri": "https://localhost:8080/"
        },
        "id": "1g9VfGVKk-BP",
        "outputId": "8d81585c-b105-42bf-a89c-300b54122cf3"
      },
      "source": [
        "ratings_count_prom = pd.DataFrame(ratings_explicit.groupby(['ISBN'])['Book-Rating'].mean())\n",
        "print(ratings_count_prom)\n",
        "\n",
        "ratings_count = pd.DataFrame(ratings_explicit.groupby(['ISBN'])['Book-Rating'].sum())\n",
        "booksRating = ratings_count.sort_values('Book-Rating', ascending = False).head(1000)"
      ],
      "execution_count": null,
      "outputs": [
        {
          "output_type": "stream",
          "text": [
            "            Book-Rating\n",
            "ISBN                   \n",
            "0000913154  8.0        \n",
            "0001046438  9.0        \n",
            "000104687X  6.0        \n",
            "0001047213  9.0        \n",
            "0001047973  9.0        \n",
            "...         ...        \n",
            "B0001FZGPI  7.0        \n",
            "B0001FZGRQ  9.0        \n",
            "B0001GMSV2  8.0        \n",
            "B0001I1KOG  10.0       \n",
            "B000234N3A  9.0        \n",
            "\n",
            "[149836 rows x 1 columns]\n"
          ],
          "name": "stdout"
        }
      ]
    },
    {
      "cell_type": "code",
      "metadata": {
        "colab": {
          "base_uri": "https://localhost:8080/",
          "height": 570
        },
        "id": "FpH5WZrvMDnC",
        "outputId": "a64b501a-7091-4758-d6a2-090abf0b7ba1"
      },
      "source": [
        "booksRatingAvg = booksRating.merge(ratings_count_prom, left_index = True, right_on = 'ISBN').merge(booksAll, left_index = True, right_on = 'ISBN')\n",
        "booksRatingAvg"
      ],
      "execution_count": null,
      "outputs": [
        {
          "output_type": "execute_result",
          "data": {
            "text/html": [
              "<div>\n",
              "<style scoped>\n",
              "    .dataframe tbody tr th:only-of-type {\n",
              "        vertical-align: middle;\n",
              "    }\n",
              "\n",
              "    .dataframe tbody tr th {\n",
              "        vertical-align: top;\n",
              "    }\n",
              "\n",
              "    .dataframe thead th {\n",
              "        text-align: right;\n",
              "    }\n",
              "</style>\n",
              "<table border=\"1\" class=\"dataframe\">\n",
              "  <thead>\n",
              "    <tr style=\"text-align: right;\">\n",
              "      <th></th>\n",
              "      <th>Book-Rating_x</th>\n",
              "      <th>Book-Rating_y</th>\n",
              "      <th>Unnamed: 0</th>\n",
              "      <th>ISBN</th>\n",
              "      <th>bookTitle</th>\n",
              "      <th>bookAuthor</th>\n",
              "      <th>yearOfPublication</th>\n",
              "      <th>publisher</th>\n",
              "    </tr>\n",
              "  </thead>\n",
              "  <tbody>\n",
              "    <tr>\n",
              "      <th>408</th>\n",
              "      <td>5787</td>\n",
              "      <td>8.185290</td>\n",
              "      <td>408</td>\n",
              "      <td>0316666343</td>\n",
              "      <td>The Lovely Bones: A Novel</td>\n",
              "      <td>Alice Sebold</td>\n",
              "      <td>2002</td>\n",
              "      <td>Little, Brown</td>\n",
              "    </tr>\n",
              "    <tr>\n",
              "      <th>748</th>\n",
              "      <td>4108</td>\n",
              "      <td>8.435318</td>\n",
              "      <td>748</td>\n",
              "      <td>0385504209</td>\n",
              "      <td>The Da Vinci Code</td>\n",
              "      <td>Dan Brown</td>\n",
              "      <td>2003</td>\n",
              "      <td>Doubleday</td>\n",
              "    </tr>\n",
              "    <tr>\n",
              "      <th>522</th>\n",
              "      <td>3134</td>\n",
              "      <td>8.182768</td>\n",
              "      <td>522</td>\n",
              "      <td>0312195516</td>\n",
              "      <td>The Red Tent (Bestselling Backlist)</td>\n",
              "      <td>Anita Diamant</td>\n",
              "      <td>1998</td>\n",
              "      <td>Picador USA</td>\n",
              "    </tr>\n",
              "    <tr>\n",
              "      <th>2143</th>\n",
              "      <td>2798</td>\n",
              "      <td>8.939297</td>\n",
              "      <td>2143</td>\n",
              "      <td>059035342X</td>\n",
              "      <td>Harry Potter and the Sorcerer's Stone (Harry Potter (Paperback))</td>\n",
              "      <td>J. K. Rowling</td>\n",
              "      <td>1999</td>\n",
              "      <td>Arthur A. Levine Books</td>\n",
              "    </tr>\n",
              "    <tr>\n",
              "      <th>356</th>\n",
              "      <td>2595</td>\n",
              "      <td>8.452769</td>\n",
              "      <td>356</td>\n",
              "      <td>0142001740</td>\n",
              "      <td>The Secret Life of Bees</td>\n",
              "      <td>Sue Monk Kidd</td>\n",
              "      <td>2003</td>\n",
              "      <td>Penguin Books</td>\n",
              "    </tr>\n",
              "    <tr>\n",
              "      <th>...</th>\n",
              "      <td>...</td>\n",
              "      <td>...</td>\n",
              "      <td>...</td>\n",
              "      <td>...</td>\n",
              "      <td>...</td>\n",
              "      <td>...</td>\n",
              "      <td>...</td>\n",
              "      <td>...</td>\n",
              "    </tr>\n",
              "    <tr>\n",
              "      <th>5255</th>\n",
              "      <td>250</td>\n",
              "      <td>8.333333</td>\n",
              "      <td>5255</td>\n",
              "      <td>0679732411</td>\n",
              "      <td>Gift from the Sea</td>\n",
              "      <td>Anne Morrow Lindbergh</td>\n",
              "      <td>1991</td>\n",
              "      <td>Pantheon Books</td>\n",
              "    </tr>\n",
              "    <tr>\n",
              "      <th>21201</th>\n",
              "      <td>250</td>\n",
              "      <td>8.064516</td>\n",
              "      <td>21201</td>\n",
              "      <td>0312978383</td>\n",
              "      <td>Winter Solstice</td>\n",
              "      <td>Rosamunde Pilcher</td>\n",
              "      <td>2001</td>\n",
              "      <td>St. Martin's Paperbacks</td>\n",
              "    </tr>\n",
              "    <tr>\n",
              "      <th>1431</th>\n",
              "      <td>250</td>\n",
              "      <td>8.333333</td>\n",
              "      <td>1431</td>\n",
              "      <td>0345325818</td>\n",
              "      <td>The Silmarillion</td>\n",
              "      <td>J.R.R. TOLKIEN</td>\n",
              "      <td>1985</td>\n",
              "      <td>Del Rey</td>\n",
              "    </tr>\n",
              "    <tr>\n",
              "      <th>15967</th>\n",
              "      <td>250</td>\n",
              "      <td>7.812500</td>\n",
              "      <td>15967</td>\n",
              "      <td>0345447867</td>\n",
              "      <td>The Apprentice</td>\n",
              "      <td>Tess Gerritsen</td>\n",
              "      <td>2003</td>\n",
              "      <td>Ballantine Books</td>\n",
              "    </tr>\n",
              "    <tr>\n",
              "      <th>39129</th>\n",
              "      <td>250</td>\n",
              "      <td>6.944444</td>\n",
              "      <td>39129</td>\n",
              "      <td>0452266564</td>\n",
              "      <td>The Claiming of Sleeping Beauty (Erotic Adventures of Sleeping Beauty)</td>\n",
              "      <td>Rice Anne</td>\n",
              "      <td>1999</td>\n",
              "      <td>Plume Books</td>\n",
              "    </tr>\n",
              "  </tbody>\n",
              "</table>\n",
              "<p>1000 rows × 8 columns</p>\n",
              "</div>"
            ],
            "text/plain": [
              "       Book-Rating_x  Book-Rating_y  ...  yearOfPublication                publisher\n",
              "408    5787           8.185290       ...  2002               Little, Brown          \n",
              "748    4108           8.435318       ...  2003               Doubleday              \n",
              "522    3134           8.182768       ...  1998               Picador USA            \n",
              "2143   2798           8.939297       ...  1999               Arthur A. Levine Books \n",
              "356    2595           8.452769       ...  2003               Penguin Books          \n",
              "...     ...                ...       ...   ...                         ...          \n",
              "5255   250            8.333333       ...  1991               Pantheon Books         \n",
              "21201  250            8.064516       ...  2001               St. Martin's Paperbacks\n",
              "1431   250            8.333333       ...  1985               Del Rey                \n",
              "15967  250            7.812500       ...  2003               Ballantine Books       \n",
              "39129  250            6.944444       ...  1999               Plume Books            \n",
              "\n",
              "[1000 rows x 8 columns]"
            ]
          },
          "metadata": {
            "tags": []
          },
          "execution_count": 17
        }
      ]
    },
    {
      "cell_type": "code",
      "metadata": {
        "id": "uMJSqNFMb2Wf"
      },
      "source": [
        "import math "
      ],
      "execution_count": null,
      "outputs": []
    },
    {
      "cell_type": "code",
      "metadata": {
        "colab": {
          "base_uri": "https://localhost:8080/"
        },
        "id": "m_iEmwPng1_S",
        "outputId": "638ec772-970b-40e8-8010-4118e992274b"
      },
      "source": [
        "booksRatingAvg.info()\n"
      ],
      "execution_count": null,
      "outputs": [
        {
          "output_type": "stream",
          "text": [
            "<class 'pandas.core.frame.DataFrame'>\n",
            "Int64Index: 1000 entries, 408 to 39129\n",
            "Data columns (total 8 columns):\n",
            " #   Column             Non-Null Count  Dtype  \n",
            "---  ------             --------------  -----  \n",
            " 0   Book-Rating_x      1000 non-null   int64  \n",
            " 1   Book-Rating_y      1000 non-null   float64\n",
            " 2   Unnamed: 0         1000 non-null   int64  \n",
            " 3   ISBN               1000 non-null   object \n",
            " 4   bookTitle          1000 non-null   object \n",
            " 5   bookAuthor         1000 non-null   object \n",
            " 6   yearOfPublication  1000 non-null   int64  \n",
            " 7   publisher          1000 non-null   object \n",
            "dtypes: float64(1), int64(3), object(4)\n",
            "memory usage: 70.3+ KB\n"
          ],
          "name": "stdout"
        }
      ]
    },
    {
      "cell_type": "code",
      "metadata": {
        "id": "nqYVmYvMavq5"
      },
      "source": [
        "#aqui vamos a poder comparar la similitud entre el libro escogido y el resto de los libros del dataset\n",
        "def Similarity(bookId1, bookId2):\n",
        "    a = booksRatingAvg.loc[(booksRatingAvg.ISBN == bookId1),:]\n",
        "    b = booksRatingAvg.loc[(booksRatingAvg.ISBN == bookId2),:]\n",
        "    \n",
        "    yearA = a['yearOfPublication']\n",
        "    yearB = b['yearOfPublication']\n",
        "    \n",
        "    yearDistance = int(math.pow((int(math.pow (yearA, 2)) - int(math.pow (yearB, 2))),2))\n",
        "    \n",
        "    authorA = a['bookAuthor']\n",
        "    authorB = b['bookAuthor']\n",
        "    if authorA is authorB:\n",
        "      authorDistance = 0\n",
        "    else:\n",
        "      authorDistance = 1\n",
        "    #print(authorDistance)\n",
        "\n",
        "    return math.sqrt(yearDistance+authorDistance)"
      ],
      "execution_count": null,
      "outputs": []
    },
    {
      "cell_type": "code",
      "metadata": {
        "colab": {
          "base_uri": "https://localhost:8080/"
        },
        "id": "BbZhip9deBN7",
        "outputId": "8210f417-5385-4753-f239-ccab8db96e3d"
      },
      "source": [
        "Similarity('0316666343','0385504209')"
      ],
      "execution_count": null,
      "outputs": [
        {
          "output_type": "execute_result",
          "data": {
            "text/plain": [
              "4005.000124843943"
            ]
          },
          "metadata": {
            "tags": []
          },
          "execution_count": 21
        }
      ]
    },
    {
      "cell_type": "code",
      "metadata": {
        "colab": {
          "base_uri": "https://localhost:8080/",
          "height": 77
        },
        "id": "mgbmXekDihsf",
        "outputId": "c39bc9cd-1e4f-4361-e079-1b2d025cec09"
      },
      "source": [
        "booksAll.loc[(booksAll.ISBN == '0195153448'),:]"
      ],
      "execution_count": null,
      "outputs": [
        {
          "output_type": "execute_result",
          "data": {
            "text/html": [
              "<div>\n",
              "<style scoped>\n",
              "    .dataframe tbody tr th:only-of-type {\n",
              "        vertical-align: middle;\n",
              "    }\n",
              "\n",
              "    .dataframe tbody tr th {\n",
              "        vertical-align: top;\n",
              "    }\n",
              "\n",
              "    .dataframe thead th {\n",
              "        text-align: right;\n",
              "    }\n",
              "</style>\n",
              "<table border=\"1\" class=\"dataframe\">\n",
              "  <thead>\n",
              "    <tr style=\"text-align: right;\">\n",
              "      <th></th>\n",
              "      <th>Unnamed: 0</th>\n",
              "      <th>ISBN</th>\n",
              "      <th>bookTitle</th>\n",
              "      <th>bookAuthor</th>\n",
              "      <th>yearOfPublication</th>\n",
              "      <th>publisher</th>\n",
              "    </tr>\n",
              "  </thead>\n",
              "  <tbody>\n",
              "    <tr>\n",
              "      <th>0</th>\n",
              "      <td>0</td>\n",
              "      <td>0195153448</td>\n",
              "      <td>Classical Mythology</td>\n",
              "      <td>Mark P. O. Morford</td>\n",
              "      <td>2002</td>\n",
              "      <td>Oxford University Press</td>\n",
              "    </tr>\n",
              "  </tbody>\n",
              "</table>\n",
              "</div>"
            ],
            "text/plain": [
              "   Unnamed: 0        ISBN  ... yearOfPublication                publisher\n",
              "0  0           0195153448  ...  2002              Oxford University Press\n",
              "\n",
              "[1 rows x 6 columns]"
            ]
          },
          "metadata": {
            "tags": []
          },
          "execution_count": 22
        }
      ]
    },
    {
      "cell_type": "code",
      "metadata": {
        "colab": {
          "base_uri": "https://localhost:8080/",
          "height": 77
        },
        "id": "jdzzAERWk-kS",
        "outputId": "5f1b36bf-c9ac-4c62-b91f-06e506c4083f"
      },
      "source": [
        "booksRatingAvg.loc[(booksRatingAvg.ISBN == '0385504209'),:]"
      ],
      "execution_count": null,
      "outputs": [
        {
          "output_type": "execute_result",
          "data": {
            "text/html": [
              "<div>\n",
              "<style scoped>\n",
              "    .dataframe tbody tr th:only-of-type {\n",
              "        vertical-align: middle;\n",
              "    }\n",
              "\n",
              "    .dataframe tbody tr th {\n",
              "        vertical-align: top;\n",
              "    }\n",
              "\n",
              "    .dataframe thead th {\n",
              "        text-align: right;\n",
              "    }\n",
              "</style>\n",
              "<table border=\"1\" class=\"dataframe\">\n",
              "  <thead>\n",
              "    <tr style=\"text-align: right;\">\n",
              "      <th></th>\n",
              "      <th>Book-Rating_x</th>\n",
              "      <th>Book-Rating_y</th>\n",
              "      <th>Unnamed: 0</th>\n",
              "      <th>ISBN</th>\n",
              "      <th>bookTitle</th>\n",
              "      <th>bookAuthor</th>\n",
              "      <th>yearOfPublication</th>\n",
              "      <th>publisher</th>\n",
              "    </tr>\n",
              "  </thead>\n",
              "  <tbody>\n",
              "    <tr>\n",
              "      <th>748</th>\n",
              "      <td>4108</td>\n",
              "      <td>8.435318</td>\n",
              "      <td>748</td>\n",
              "      <td>0385504209</td>\n",
              "      <td>The Da Vinci Code</td>\n",
              "      <td>Dan Brown</td>\n",
              "      <td>2003</td>\n",
              "      <td>Doubleday</td>\n",
              "    </tr>\n",
              "  </tbody>\n",
              "</table>\n",
              "</div>"
            ],
            "text/plain": [
              "     Book-Rating_x  Book-Rating_y  ...  yearOfPublication  publisher\n",
              "748  4108           8.435318       ...  2003               Doubleday\n",
              "\n",
              "[1 rows x 8 columns]"
            ]
          },
          "metadata": {
            "tags": []
          },
          "execution_count": 23
        }
      ]
    },
    {
      "cell_type": "code",
      "metadata": {
        "id": "Bs6Cz8BniYM2"
      },
      "source": [
        "#aqui vamos a llamar nuestra funcion de similitud, y traer los 10 libros mas similares junto con su rating  \n",
        "import operator\n",
        "def predict_score():\n",
        "    name = input('Enter a book title: ')\n",
        "    new_book = booksRatingAvg[booksRatingAvg['ISBN'].str.contains(name)].iloc[0].to_frame().T\n",
        "    print('Selected Book: ',new_book.ISBN.values[0])\n",
        "    def getNeighbors(baseBook, K):\n",
        "        distances = []\n",
        "        \n",
        "        for index, book in booksRatingAvg.iterrows():\n",
        "            if index != baseBook.index.values[0]:\n",
        "                dist = Similarity(baseBook['ISBN'].values[0], book['ISBN'])\n",
        "                distances.append((index, dist))\n",
        "    \n",
        "        distances.sort(key=operator.itemgetter(1))\n",
        "        neighbors = []\n",
        "    \n",
        "        for x in range(K):\n",
        "            neighbors.append(distances[x])\n",
        "        return neighbors\n",
        "    \n",
        "    K = 10\n",
        "    avgRating = 0\n",
        "    neighbors = getNeighbors(new_book, K)\n",
        "    print('\\nRecommended Books: \\n')\n",
        "    for neighbor in neighbors:\n",
        "        avgRating = avgRating+booksRatingAvg.loc[neighbor[0]]['Book-Rating_y']  \n",
        "        print( str(booksRatingAvg.loc[neighbor[0]]['bookTitle']) +\" | Rating: \"+str(booksRatingAvg.loc[neighbor[0]]['Book-Rating_y']))\n",
        "    "
      ],
      "execution_count": null,
      "outputs": []
    },
    {
      "cell_type": "code",
      "metadata": {
        "colab": {
          "base_uri": "https://localhost:8080/"
        },
        "id": "FQOGbgTeoUk5",
        "outputId": "0d419670-b687-4051-f5b7-f288bbada2c7"
      },
      "source": [
        "predict_score()"
      ],
      "execution_count": null,
      "outputs": [
        {
          "output_type": "stream",
          "text": [
            "Enter a book title: 0385504209\n",
            "Selected Book:  0385504209\n",
            "\n",
            "Recommended Books: \n",
            "\n",
            "The Secret Life of Bees | Rating: 8.452768729641694\n",
            "The Five People You Meet in Heaven | Rating: 8.016528925619834\n",
            "Harry Potter and the Order of the Phoenix (Book 5) | Rating: 9.033980582524272\n",
            "Life of Pi | Rating: 8.030973451327434\n",
            "The No. 1 Ladies' Detective Agency (Today Show Book Club #8) | Rating: 8.049180327868852\n",
            "The Nanny Diaries: A Novel | Rating: 7.293413173652695\n",
            "Dance upon the Air (Three Sisters Island Trilogy) | Rating: 8.038095238095238\n",
            "The Beach House | Rating: 7.836538461538462\n",
            "Dude, Where's My Country? | Rating: 8.337078651685394\n",
            "The King of Torts | Rating: 7.619565217391305\n"
          ],
          "name": "stdout"
        }
      ]
    },
    {
      "cell_type": "code",
      "metadata": {
        "id": "IksY5K5-suIq"
      },
      "source": [
        "booksRatingAvg.to_csv('booksRatingAvg.csv')"
      ],
      "execution_count": null,
      "outputs": []
    }
  ]
}